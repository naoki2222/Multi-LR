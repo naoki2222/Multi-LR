{
 "cells": [
  {
   "cell_type": "code",
   "execution_count": null,
   "metadata": {},
   "outputs": [],
   "source": [
    "import base64\n",
    "import requests\n",
    "import json\n",
    "from bs4 import BeautifulSoup\n",
    "import re\n",
    "from sklearn.feature_extraction.text import CountVectorizer\n",
    "from sklearn.feature_extraction.text import TfidfVectorizer\n",
    "from sklearn.decomposition import LatentDirichletAllocation\n",
    "from sklearn.datasets import fetch_20newsgroups\n",
    "import numpy as np\n",
    "import pickle\n",
    "from tqdm import tqdm "
   ]
  },
  {
   "cell_type": "code",
   "execution_count": null,
   "metadata": {},
   "outputs": [],
   "source": [
    "def get_tag_name(repository_url, client_id, client_secret):\n",
    "    \n",
    "    tag_list = []\n",
    "    \n",
    "    repository_url = repository_url.replace('.git', '')\n",
    "    api = repository_url.replace('https://github.com/', 'https://api.github.com/repos/')\n",
    "    r = requests.get(api,auth=(client_id, client_secret))\n",
    "    data = json.loads(r.text)\n",
    "    url2 = data['tags_url']\n",
    "    r2 = requests.get(url2,auth=(client_id, client_secret))\n",
    "    data2 = json.loads(r2.text)\n",
    "    for tag in data2:\n",
    "        tag_list.append(tag['name'])\n",
    "    tag_list.reverse()\n",
    "    return tag_list"
   ]
  },
  {
   "cell_type": "code",
   "execution_count": null,
   "metadata": {},
   "outputs": [],
   "source": [
    "import torch\n",
    "from pytorch_pretrained_bert import BertTokenizer, BertModel, BertForMaskedLM\n",
    "\n",
    "class BertTextVectorixer:\n",
    "    def __init__(self, model_name):\n",
    "        self.tokenizer = BertTokenizer.from_pretrained(model_name)\n",
    "        self.model = BertModel.from_pretrained(model_name)\n",
    "        \n",
    "    def tokenize_(self, sentence):\n",
    "        tokenized_sentence = self.tokenizer.tokenize(sentence)        \n",
    "        return tokenized_sentence\n",
    "    \n",
    "    def vectorize(self, sentence):\n",
    "        tokenized_sentence = self.tokenizer.tokenize(sentence)\n",
    "        indexed_tokens = self.tokenizer.convert_tokens_to_ids(tokenized_sentence)\n",
    "        tokens_tensor = torch.tensor([indexed_tokens])\n",
    "        outputs, _ = self.model(tokens_tensor)\n",
    "        last_hidden_states = outputs[0]\n",
    "        embedding = last_hidden_states[0].detach().numpy()\n",
    "        sentencevec = np.mean(embedding, axis=0)\n",
    "\n",
    "        return sentencevec"
   ]
  },
  {
   "cell_type": "code",
   "execution_count": null,
   "metadata": {},
   "outputs": [],
   "source": [
    "def commit_message(repository_url, client_id, client_secret, from_ver, to_ver):\n",
    "\n",
    "    commit_files = {}\n",
    "    sentence_set = {}\n",
    "    \n",
    "    repository_url = repository_url.replace('.git', '/compare/{f}...{t}')\n",
    "    api = repository_url.replace('https://github.com/', 'https://api.github.com/repos/')\n",
    "        \n",
    "    url = api.format(f=from_ver, t=to_ver)\n",
    "    r = requests.get(url,auth=(client_id, client_secret))\n",
    "    data = json.loads(r.text)\n",
    "\n",
    "    \n",
    "    for j in range(len(data['commits'])):\n",
    "        key_name = to_ver+'_commit'+str(j)\n",
    "        url = data['commits'][j]['url']\n",
    "        r = requests.get(url,auth=(client_id, client_secret))\n",
    "        data2 = json.loads(r.text)\n",
    "        message = data2['commit']['message'].replace('\\n', ' ')\n",
    "        message = '[CLS] '+ message +' [SEP]'\n",
    "\n",
    "        commit_files_list = []\n",
    "        for k in range(len(data2['files'])):\n",
    "            filename = data2['files'][k]['filename']\n",
    "            commit_files_list.append(filename)\n",
    "\n",
    "        commit_files[key_name] = commit_files_list\n",
    "        sentence_set[key_name] = message\n",
    "\n",
    "    return commit_files,sentence_set"
   ]
  },
  {
   "cell_type": "code",
   "execution_count": null,
   "metadata": {},
   "outputs": [],
   "source": [
    "#BERTモデルの選択\n",
    "#model_name = 'bert-large-cased'\n",
    "#model_name = 'bert-large-uncased'\n",
    "#model_name = 'bert-base-cased'\n",
    "model_name = 'bert-base-uncased'\n",
    "\n",
    "#インスタンス化\n",
    "BTV = BertTextVectorixer(model_name)"
   ]
  },
  {
   "cell_type": "code",
   "execution_count": null,
   "metadata": {},
   "outputs": [],
   "source": [
    "#リポジトリの指定\n",
    "repository_url = \"https://github.com/okamumu/gospn.git\"\n",
    "#api使用のid, クライアントシークレット\n",
    "client_id = ''\n",
    "client_secret = ''"
   ]
  },
  {
   "cell_type": "code",
   "execution_count": null,
   "metadata": {},
   "outputs": [],
   "source": [
    "tag_list = get_tag_name(repository_url, client_id, client_secret)"
   ]
  },
  {
   "cell_type": "code",
   "execution_count": null,
   "metadata": {},
   "outputs": [],
   "source": [
    "#コミットで変更されたファイル(commit_files)、コミットのメッセージ(sentence_set)\n",
    "commit_files = {}\n",
    "sentence_set = {}\n",
    "for i in tqdm(range(len(tag_list))):\n",
    "    if i == (len(tag_list)-1):\n",
    "        break\n",
    "    else:\n",
    "        from_ver = tag_list[i]\n",
    "        to_ver = tag_list[i+1]\n",
    "        commit_files_iter = {}\n",
    "        sentence_set_iter = {}\n",
    "        commit_files_iter, sentence_set_iter = commit_message(repository_url, client_id, client_secret, from_ver, to_ver) \n",
    "        commit_files.update(commit_files_iter)\n",
    "        sentence_set.update(sentence_set_iter)"
   ]
  },
  {
   "cell_type": "code",
   "execution_count": null,
   "metadata": {},
   "outputs": [],
   "source": [
    "#文書のベクトル化\n",
    "vector_set = {}\n",
    "for k in sentence_set.keys():\n",
    "    text = sentence_set[k]\n",
    "    vector_set[k] = [BTV.vectorize(text)]"
   ]
  },
  {
   "cell_type": "code",
   "execution_count": null,
   "metadata": {},
   "outputs": [],
   "source": [
    "#全ベクトルのリストを作成\n",
    "all_vector = []\n",
    "for k in vector_set.keys():\n",
    "    all_vector.append(vector_set[k][0])"
   ]
  },
  {
   "cell_type": "code",
   "execution_count": null,
   "metadata": {},
   "outputs": [],
   "source": [
    "with open('commit_files_commit.bin', 'wb') as f:\n",
    "    pickle.dump(commit_files, f)\n",
    "with open('all_vector_commit.bin', 'wb') as f:\n",
    "    pickle.dump(all_vector, f)\n",
    "with open('vector_set_commit.bin', 'wb') as f:\n",
    "    pickle.dump(vector_set, f)"
   ]
  }
 ],
 "metadata": {
  "kernelspec": {
   "display_name": "Python 3",
   "language": "python",
   "name": "python3"
  },
  "language_info": {
   "codemirror_mode": {
    "name": "ipython",
    "version": 3
   },
   "file_extension": ".py",
   "mimetype": "text/x-python",
   "name": "python",
   "nbconvert_exporter": "python",
   "pygments_lexer": "ipython3",
   "version": "3.7.6"
  }
 },
 "nbformat": 4,
 "nbformat_minor": 4
}
